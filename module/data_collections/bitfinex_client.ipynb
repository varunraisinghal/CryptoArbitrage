{
 "cells": [
  {
   "cell_type": "code",
   "execution_count": 7,
   "metadata": {},
   "outputs": [],
   "source": [
    "import requests\n",
    "\n",
    "def get_bitfinex_symbols():\n",
    "    url = \"https://api-pub.bitfinex.com/v2/tickers?symbols=ALL\"\n",
    "    response = requests.get(url)\n",
    "    return response.json() if response.status_code == 200 else []\n",
    "\n",
    "def get_recent_price(symbol):\n",
    "    url = f'https://api-pub.bitfinex.com/v2/ticker/{symbol}'\n",
    "    response = requests.get(url)\n",
    "    return response.json()['last_price'] if response.status_code == 200 else 'N/A'\n"
   ]
  },
  {
   "cell_type": "code",
   "execution_count": 9,
   "metadata": {},
   "outputs": [
    {
     "name": "stdout",
     "output_type": "stream",
     "text": [
      "['tBTCUSD', 45347, 7.73225513, 45351, 15.14011314, 715, 0.0160138, 45364, 1383.60575411, 45563, 44409]: N/A\n",
      "['tLTCUSD', 70.47, 1502.18548863, 70.495, 559.97583332, 1.652, 0.02395244, 70.622, 5278.7502237, 70.81, 68.416]: N/A\n",
      "['tLTCBTC', 0.0015535, 823.16431094, 0.0015548, 1463.55717428, 7.7e-06, 0.0049748, 0.0015555, 755.86874294, 0.0015607, 0.0015129]: N/A\n",
      "['tETHUSD', 2422.3, 476.71067123, 2422.6, 168.2870425, -12.6, -0.00517645, 2421.5, 3360.26358216, 2460.8, 2411.6]: N/A\n",
      "['tETHBTC', 0.053399, 101.78509179, 0.0534, 349.53508658, -0.001192, -0.0218347, 0.0534, 1743.20332334, 0.054713, 0.05333]: N/A\n",
      "['tETCBTC', 0.00056618, 4753.08726102, 0.00056691, 6825.33239923, -4.22e-06, -0.00742945, 0.00056379, 85.00123562, 0.00057, 0.00055904]: N/A\n",
      "['tETCUSD', 25.674, 13942.71438985, 25.702, 12237.66273954, 0.187, 0.00736539, 25.576, 1167.34909658, 25.822, 25.052]: N/A\n",
      "['tRRTUSD', 0.8, 476177.26439854, 0.84892, 30387.66767471, 0, 0, 0.8, 24.94233226, 0.8, 0.8]: N/A\n",
      "['tZECUSD', 20.784, 1349.78979733, 20.802, 1356.32324175, 0.034, 0.00163642, 20.811, 1046.77859526, 20.882, 20.515]: N/A\n",
      "['tZECBTC', 0.00045825, 1580.00727188, 0.00045877, 2111.5241092, -6.54e-06, -0.01404006, 0.00045927, 110.21055097, 0.00046694, 0.00045374]: N/A\n",
      "['tXMRUSD', 126.19, 693.74399448, 126.64, 1192.13602823, -5.55, -0.04205501, 126.42, 5322.90768484, 131.97, 117.79]: N/A\n",
      "['tXMRBTC', 0.0027849, 812.41865732, 0.0027926, 867.00396786, -0.0001402, -0.04783677, 0.0027906, 2560.21272837, 0.0029661, 0.0026444]: N/A\n",
      "['tDSHUSD', 26.864, 2126.57119272, 26.907, 1942.05207523, -0.058, -0.00214767, 26.948, 402.58234976, 27.076, 26.529]: N/A\n",
      "['tDSHBTC', 0.00059264, 1762.41084497, 0.00059321, 4816.38633637, -1.465e-05, -0.02410134, 0.0005932, 69.31860053, 0.00060785, 0.0005883]: N/A\n",
      "['tBTCEUR', 42136, 8.37745635, 42152, 9.90068904, 677, 0.01632702, 42142, 28.77342146, 42298, 41265]: N/A\n",
      "['tBTCJPY', 6758800, 14.88141366, 6772600, 5.63797677, 183700, 0.0278853, 6771400, 0.02338505, 6792900, 6586900]: N/A\n",
      "['tXRPUSD', 0.51461, 153285.46395631, 0.51477, 113763.58614332, -0.0001, -0.00019422, 0.51477, 2474519.99175504, 0.51896, 0.50997]: N/A\n",
      "['tXRPBTC', 1.134e-05, 752313.96567397, 1.135e-05, 714357.81079354, -2.1e-07, -0.01818182, 1.134e-05, 648843.66964269, 1.158e-05, 1.133e-05]: N/A\n",
      "['tIOTUSD', 0.24461, 507046.44827538, 0.24487, 302947.48455298, -0.00649, -0.02585657, 0.24451, 618959.10314815, 0.2532, 0.24297]: N/A\n",
      "['tIOTBTC', 5.39e-06, 632605.47958313, 5.4e-06, 328891.29626681, -2.3e-07, -0.04078014, 5.41e-06, 235426.41657306, 5.68e-06, 5.39e-06]: N/A\n",
      "['tEOSUSD', 0.72232, 100435.68461116, 0.72315, 63023.66422382, -0.00143, -0.00197642, 0.7221, 218104.84214668, 0.72605, 0.71326]: N/A\n",
      "['tEOSBTC', 1.593e-05, 151947.14723981, 1.595e-05, 128824.29108693, -3.1e-07, -0.01910043, 1.592e-05, 16605.77810545, 1.623e-05, 1.581e-05]: N/A\n",
      "['tEOSETH', 0.0002981, 25831.77240788, 0.00029859, 21538.05288646, 1.39e-06, 0.00468313, 0.0002982, 884.41006035, 0.0002989, 0.00029449]: N/A\n",
      "['tOMGUSD', 0.63301, 97702.40145441, 0.63383, 122185.08339345, 0.00572, 0.00909394, 0.63471, 23202.76591803, 0.6357, 0.62065]: N/A\n",
      "['tOMGBTC', 1.394e-05, 184570.25567184, 1.397e-05, 956583.70800532, -1.1e-07, -0.00782361, 1.395e-05, 7386.89744709, 1.409e-05, 1.383e-05]: N/A\n",
      "['tOMGETH', 0.00026084, 100041.3630229, 0.00026173, 162329.43319279, 2.49e-06, 0.00962765, 0.00026112, 539.89385195, 0.00026237, 0.00025609]: N/A\n",
      "['tNEOUSD', 11.629, 5715.96097504, 11.644, 5299.64763201, 0.105, 0.00910747, 11.634, 1742.93694516, 11.638, 11.444]: N/A\n",
      "['tNEOBTC', 0.00025646, 8603.30749895, 0.00025688, 10699.03470717, -2.45e-06, -0.00948142, 0.00025595, 145.3898057, 0.00026022, 0.00025528]: N/A\n",
      "['tQTMUSD', 2.9451, 7437.79179553, 2.9517, 6914.59642307, 0.021, 0.00719942, 2.9379, 1075.695103, 2.938, 2.9169]: N/A\n",
      "['tBATUSD', 0.22505, 32802.75043072, 0.2255, 211308.2316782, 0.0033, 0.01485149, 0.2255, 3515.2222486, 0.22589, 0.21853]: N/A\n",
      "['tMNAUSD', 0.45228, 28293.2121293, 0.45284, 26097.02291364, 0.0056, 0.01252404, 0.45274, 102058.18656133, 0.45341, 0.44173]: N/A\n",
      "['tMNABTC', 9.97e-06, 82375.73413734, 9.99e-06, 60400.53839654, -6e-08, -0.00598205, 9.97e-06, 22695.07811055, 1.004e-05, 9.87e-06]: N/A\n",
      "['tFUNUSD', 0.0054765, 3423425.43002603, 0.0055033, 3066495.67266416, 0, 0, 0.0055582, 294.393795, 0.0055582, 0.0055582]: N/A\n",
      "['tZRXUSD', 0.3173, 192341.71578451, 0.3175, 183343.0006095, -0.00318, -0.0099189, 0.31742, 179750.1355798, 0.3206, 0.31431]: N/A\n",
      "['tTRXUSD', 0.12212, 1056942.67055375, 0.12223, 562947.56046302, -0.00178, -0.01436758, 0.12211, 1890292.34366124, 0.12666, 0.12112]: N/A\n",
      "['tTRXBTC', 2.69e-06, 845921.78488108, 2.7e-06, 510015.18962082, -1.1e-07, -0.03928571, 2.69e-06, 359314.2777326, 2.85e-06, 2.68e-06]: N/A\n",
      "['tTRXETH', 5.04e-05, 272828.90171307, 5.047e-05, 109654.15440922, -4.7e-07, -0.00922111, 5.05e-05, 13086.74966471, 5.234e-05, 4.992e-05]: N/A\n",
      "['tBTCGBP', 35961, 9.05993332, 35980, 1.67394497, 648, 0.01834187, 35977, 1.60155392, 36101, 35204]: N/A\n",
      "['tETHEUR', 2250.5, 93.72004366, 2252.2, 84.4545977, -11.2, -0.00495356, 2249.8, 5.06404341, 2291.2, 2244.3]: N/A\n",
      "['tETHJPY', 361160, 596.37960537, 361970, 127.88533201, 1210, 0.0033585, 361490, 0.41630634, 367040, 359160]: N/A\n",
      "['tETHGBP', 1920.5, 139.91075956, 1922.5, 77.58636031, -7.4, -0.00384076, 1919.3, 1.26515869, 1950.2, 1912.9]: N/A\n",
      "['tREQUSD', 0.084165, 182445.59239768, 0.08425, 159897.75451874, -0.00109, -0.01280214, 0.084052, 6252.15025366, 0.085142, 0.084052]: N/A\n",
      "['tLRCUSD', 0.23263, 93776.06371796, 0.23292, 180667.71449029, -0.00384, -0.01623816, 0.23264, 11590.80315337, 0.23648, 0.2295]: N/A\n",
      "['tDAIUSD', 0.9982, 69705.89928143, 0.999, 47887.254532, -0.00014, -0.00014008, 0.99926, 25829.14858206, 1.0039, 0.9959]: N/A\n",
      "['tXLMUSD', 0.10988, 672225.8036807, 0.10992, 617165.54404795, 0.00044, 0.00401423, 0.11005, 419003.48322353, 0.11005, 0.10868]: N/A\n",
      "['tXLMBTC', 2.42e-06, 606378.15764999, 2.43e-06, 366061.30931646, -3e-08, -0.01219512, 2.43e-06, 203754.71080619, 2.46e-06, 2.4e-06]: N/A\n",
      "['tXVGUSD', 0.0032528, 4990493.04363076, 0.0032598, 4990604.71752528, -7.7e-06, -0.00236233, 0.0032518, 335164.83388994, 0.0032936, 0.0032012]: N/A\n",
      "['tMKRUSD', 1942.3, 23.20454317, 1944.2, 21.62781686, -21, -0.01070064, 1941.5, 126.95961136, 1962.8, 1917.4]: N/A\n",
      "['tKNCUSD', 0.59659, 28367.03073714, 0.59742, 68054.60825424, 0.00328, 0.00552086, 0.59739, 275.00874533, 0.60233, 0.58946]: N/A\n",
      "['tLYMUSD', 0.0025311, 11632541.64654898, 0.0025448, 11591211.97487467, -0.0001184, -0.0444578, 0.0025448, 736700.3223082, 0.0026937, 0.0025111]: N/A\n",
      "['tUTKUSD', 0.04255, 83468.29224626, 0.077799, 178418.70834102, -0.007616, -0.09678977, 0.07107, 58182.86018298, 0.079763, 0.050208]: N/A\n",
      "['tZILUSD', 0.020413, 1213717.78561641, 0.020436, 80102.58810118, 1.8e-05, 0.0008802, 0.020468, 93215.71102449, 0.020468, 0.0203]: N/A\n",
      "['tBNTUSD', 0.51001, 15992.73248026, 0.73648, 44605.30529726, 0.02307, 0.03233765, 0.73648, 26115.48382943, 0.73648, 0.5]: N/A\n",
      "['tVETUSD', 0.02897, 514735.95627925, 0.029043, 222517.94837294, 8.9e-05, 0.00307427, 0.029039, 1407062.51860611, 0.029765, 0.028407]: N/A\n",
      "['tVETBTC', 6.3e-07, 499457.28978158, 6.4e-07, 480906.56676317, 0, 0, 6.4e-07, 446888.62896508, 6.6e-07, 6.3e-07]: N/A\n",
      "['tXTZUSD', 1.0146, 71222.19367229, 1.0172, 33144.75434505, 0.0031, 0.00306052, 1.016, 18281.59246397, 1.0161, 0.99484]: N/A\n",
      "['tXTZBTC', 2.24e-05, 76514.77391063, 2.244e-05, 61052.29261771, -3.8e-07, -0.01669596, 2.238e-05, 13131.51797477, 2.276e-05, 2.219e-05]: N/A\n",
      "['tTRXEUR', 0.11341, 167276.0666234, 0.11388, 650199.21502975, -0.0013, -0.01128766, 0.11387, 7892.43033532, 0.11849, 0.1127]: N/A\n",
      "['tMLNUSD', 17.553, 1805.31933989, 17.607, 3852.74384605, 0.155, 0.00888405, 17.602, 81.26182037, 17.714, 17.389]: N/A\n",
      "['tOMNUSD', 1.2103, 24491.41208899, 2.7, 2309.09543828, 0, 0, 1.4344, 36.678588, 1.4344, 1.4344]: N/A\n",
      "['tPNKUSD', 0.018693, 904724.68412253, 0.0188, 1071317.78636174, -0.00046, -0.02403344, 0.01868, 2540202.90481286, 0.01914, 0.018505]: N/A\n",
      "['tUSTUSD', 0.99969, 992010.23927282, 0.9997, 1872779.18238804, 0.00018, 0.00018009, 0.9997, 60916161.80704513, 0.99975, 0.9991]: N/A\n",
      "['tEUTEUR', 0.99526, 174690.61698937, 0.9989, 827930.84183041, -5e-05, -5.005e-05, 0.99889, 38105.1415834, 0.99973, 0.99501]: N/A\n",
      "['tEUTUSD', 1.0695, 135623.78418967, 1.0778, 29114.37233599, 0.0062, 0.00578682, 1.0776, 70.9942596, 1.078, 1.0671]: N/A\n"
     ]
    },
    {
     "ename": "KeyboardInterrupt",
     "evalue": "",
     "output_type": "error",
     "traceback": [
      "\u001b[0;31m---------------------------------------------------------------------------\u001b[0m",
      "\u001b[0;31mKeyboardInterrupt\u001b[0m                         Traceback (most recent call last)",
      "\u001b[0;32m/var/folders/49/bcxc1r5j37q1h9tb07sj96440000gn/T/ipykernel_68797/2061690748.py\u001b[0m in \u001b[0;36m<module>\u001b[0;34m\u001b[0m\n\u001b[1;32m      1\u001b[0m \u001b[0msymbols\u001b[0m \u001b[0;34m=\u001b[0m \u001b[0mget_bitfinex_symbols\u001b[0m\u001b[0;34m(\u001b[0m\u001b[0;34m)\u001b[0m\u001b[0;34m\u001b[0m\u001b[0m\n\u001b[1;32m      2\u001b[0m \u001b[0;32mfor\u001b[0m \u001b[0msymbol\u001b[0m \u001b[0;32min\u001b[0m \u001b[0msymbols\u001b[0m\u001b[0;34m:\u001b[0m\u001b[0;34m\u001b[0m\u001b[0m\n\u001b[0;32m----> 3\u001b[0;31m         \u001b[0mprice\u001b[0m \u001b[0;34m=\u001b[0m \u001b[0mget_recent_price\u001b[0m\u001b[0;34m(\u001b[0m\u001b[0msymbol\u001b[0m\u001b[0;34m)\u001b[0m\u001b[0;34m\u001b[0m\u001b[0m\n\u001b[0m\u001b[1;32m      4\u001b[0m         \u001b[0mprint\u001b[0m\u001b[0;34m(\u001b[0m\u001b[0;34mf'{symbol}: {price}'\u001b[0m\u001b[0;34m)\u001b[0m\u001b[0;34m\u001b[0m\u001b[0m\n",
      "\u001b[0;32m/var/folders/49/bcxc1r5j37q1h9tb07sj96440000gn/T/ipykernel_68797/2939876911.py\u001b[0m in \u001b[0;36mget_recent_price\u001b[0;34m(symbol)\u001b[0m\n\u001b[1;32m      8\u001b[0m \u001b[0;32mdef\u001b[0m \u001b[0mget_recent_price\u001b[0m\u001b[0;34m(\u001b[0m\u001b[0msymbol\u001b[0m\u001b[0;34m)\u001b[0m\u001b[0;34m:\u001b[0m\u001b[0;34m\u001b[0m\u001b[0m\n\u001b[1;32m      9\u001b[0m     \u001b[0murl\u001b[0m \u001b[0;34m=\u001b[0m \u001b[0;34mf'https://api-pub.bitfinex.com/v2/ticker/{symbol}'\u001b[0m\u001b[0;34m\u001b[0m\u001b[0m\n\u001b[0;32m---> 10\u001b[0;31m     \u001b[0mresponse\u001b[0m \u001b[0;34m=\u001b[0m \u001b[0mrequests\u001b[0m\u001b[0;34m.\u001b[0m\u001b[0mget\u001b[0m\u001b[0;34m(\u001b[0m\u001b[0murl\u001b[0m\u001b[0;34m)\u001b[0m\u001b[0;34m\u001b[0m\u001b[0m\n\u001b[0m\u001b[1;32m     11\u001b[0m     \u001b[0;32mreturn\u001b[0m \u001b[0mresponse\u001b[0m\u001b[0;34m.\u001b[0m\u001b[0mjson\u001b[0m\u001b[0;34m(\u001b[0m\u001b[0;34m)\u001b[0m\u001b[0;34m[\u001b[0m\u001b[0;34m'last_price'\u001b[0m\u001b[0;34m]\u001b[0m \u001b[0;32mif\u001b[0m \u001b[0mresponse\u001b[0m\u001b[0;34m.\u001b[0m\u001b[0mstatus_code\u001b[0m \u001b[0;34m==\u001b[0m \u001b[0;36m200\u001b[0m \u001b[0;32melse\u001b[0m \u001b[0;34m'N/A'\u001b[0m\u001b[0;34m\u001b[0m\u001b[0m\n",
      "\u001b[0;32m/Library/Frameworks/Python.framework/Versions/3.7/lib/python3.7/site-packages/requests/api.py\u001b[0m in \u001b[0;36mget\u001b[0;34m(url, params, **kwargs)\u001b[0m\n\u001b[1;32m     71\u001b[0m     \"\"\"\n\u001b[1;32m     72\u001b[0m \u001b[0;34m\u001b[0m\u001b[0m\n\u001b[0;32m---> 73\u001b[0;31m     \u001b[0;32mreturn\u001b[0m \u001b[0mrequest\u001b[0m\u001b[0;34m(\u001b[0m\u001b[0;34m\"get\"\u001b[0m\u001b[0;34m,\u001b[0m \u001b[0murl\u001b[0m\u001b[0;34m,\u001b[0m \u001b[0mparams\u001b[0m\u001b[0;34m=\u001b[0m\u001b[0mparams\u001b[0m\u001b[0;34m,\u001b[0m \u001b[0;34m**\u001b[0m\u001b[0mkwargs\u001b[0m\u001b[0;34m)\u001b[0m\u001b[0;34m\u001b[0m\u001b[0m\n\u001b[0m\u001b[1;32m     74\u001b[0m \u001b[0;34m\u001b[0m\u001b[0m\n\u001b[1;32m     75\u001b[0m \u001b[0;34m\u001b[0m\u001b[0m\n",
      "\u001b[0;32m/Library/Frameworks/Python.framework/Versions/3.7/lib/python3.7/site-packages/requests/api.py\u001b[0m in \u001b[0;36mrequest\u001b[0;34m(method, url, **kwargs)\u001b[0m\n\u001b[1;32m     57\u001b[0m     \u001b[0;31m# cases, and look like a memory leak in others.\u001b[0m\u001b[0;34m\u001b[0m\u001b[0;34m\u001b[0m\u001b[0m\n\u001b[1;32m     58\u001b[0m     \u001b[0;32mwith\u001b[0m \u001b[0msessions\u001b[0m\u001b[0;34m.\u001b[0m\u001b[0mSession\u001b[0m\u001b[0;34m(\u001b[0m\u001b[0;34m)\u001b[0m \u001b[0;32mas\u001b[0m \u001b[0msession\u001b[0m\u001b[0;34m:\u001b[0m\u001b[0;34m\u001b[0m\u001b[0m\n\u001b[0;32m---> 59\u001b[0;31m         \u001b[0;32mreturn\u001b[0m \u001b[0msession\u001b[0m\u001b[0;34m.\u001b[0m\u001b[0mrequest\u001b[0m\u001b[0;34m(\u001b[0m\u001b[0mmethod\u001b[0m\u001b[0;34m=\u001b[0m\u001b[0mmethod\u001b[0m\u001b[0;34m,\u001b[0m \u001b[0murl\u001b[0m\u001b[0;34m=\u001b[0m\u001b[0murl\u001b[0m\u001b[0;34m,\u001b[0m \u001b[0;34m**\u001b[0m\u001b[0mkwargs\u001b[0m\u001b[0;34m)\u001b[0m\u001b[0;34m\u001b[0m\u001b[0m\n\u001b[0m\u001b[1;32m     60\u001b[0m \u001b[0;34m\u001b[0m\u001b[0m\n\u001b[1;32m     61\u001b[0m \u001b[0;34m\u001b[0m\u001b[0m\n",
      "\u001b[0;32m/Library/Frameworks/Python.framework/Versions/3.7/lib/python3.7/site-packages/requests/sessions.py\u001b[0m in \u001b[0;36mrequest\u001b[0;34m(self, method, url, params, data, headers, cookies, files, auth, timeout, allow_redirects, proxies, hooks, stream, verify, cert, json)\u001b[0m\n\u001b[1;32m    585\u001b[0m         }\n\u001b[1;32m    586\u001b[0m         \u001b[0msend_kwargs\u001b[0m\u001b[0;34m.\u001b[0m\u001b[0mupdate\u001b[0m\u001b[0;34m(\u001b[0m\u001b[0msettings\u001b[0m\u001b[0;34m)\u001b[0m\u001b[0;34m\u001b[0m\u001b[0m\n\u001b[0;32m--> 587\u001b[0;31m         \u001b[0mresp\u001b[0m \u001b[0;34m=\u001b[0m \u001b[0mself\u001b[0m\u001b[0;34m.\u001b[0m\u001b[0msend\u001b[0m\u001b[0;34m(\u001b[0m\u001b[0mprep\u001b[0m\u001b[0;34m,\u001b[0m \u001b[0;34m**\u001b[0m\u001b[0msend_kwargs\u001b[0m\u001b[0;34m)\u001b[0m\u001b[0;34m\u001b[0m\u001b[0m\n\u001b[0m\u001b[1;32m    588\u001b[0m \u001b[0;34m\u001b[0m\u001b[0m\n\u001b[1;32m    589\u001b[0m         \u001b[0;32mreturn\u001b[0m \u001b[0mresp\u001b[0m\u001b[0;34m\u001b[0m\u001b[0m\n",
      "\u001b[0;32m/Library/Frameworks/Python.framework/Versions/3.7/lib/python3.7/site-packages/requests/sessions.py\u001b[0m in \u001b[0;36msend\u001b[0;34m(self, request, **kwargs)\u001b[0m\n\u001b[1;32m    699\u001b[0m \u001b[0;34m\u001b[0m\u001b[0m\n\u001b[1;32m    700\u001b[0m         \u001b[0;31m# Send the request\u001b[0m\u001b[0;34m\u001b[0m\u001b[0;34m\u001b[0m\u001b[0m\n\u001b[0;32m--> 701\u001b[0;31m         \u001b[0mr\u001b[0m \u001b[0;34m=\u001b[0m \u001b[0madapter\u001b[0m\u001b[0;34m.\u001b[0m\u001b[0msend\u001b[0m\u001b[0;34m(\u001b[0m\u001b[0mrequest\u001b[0m\u001b[0;34m,\u001b[0m \u001b[0;34m**\u001b[0m\u001b[0mkwargs\u001b[0m\u001b[0;34m)\u001b[0m\u001b[0;34m\u001b[0m\u001b[0m\n\u001b[0m\u001b[1;32m    702\u001b[0m \u001b[0;34m\u001b[0m\u001b[0m\n\u001b[1;32m    703\u001b[0m         \u001b[0;31m# Total elapsed time of the request (approximately)\u001b[0m\u001b[0;34m\u001b[0m\u001b[0;34m\u001b[0m\u001b[0m\n",
      "\u001b[0;32m/Library/Frameworks/Python.framework/Versions/3.7/lib/python3.7/site-packages/requests/adapters.py\u001b[0m in \u001b[0;36msend\u001b[0;34m(self, request, stream, timeout, verify, cert, proxies)\u001b[0m\n\u001b[1;32m    497\u001b[0m                     \u001b[0mdecode_content\u001b[0m\u001b[0;34m=\u001b[0m\u001b[0;32mFalse\u001b[0m\u001b[0;34m,\u001b[0m\u001b[0;34m\u001b[0m\u001b[0m\n\u001b[1;32m    498\u001b[0m                     \u001b[0mretries\u001b[0m\u001b[0;34m=\u001b[0m\u001b[0mself\u001b[0m\u001b[0;34m.\u001b[0m\u001b[0mmax_retries\u001b[0m\u001b[0;34m,\u001b[0m\u001b[0;34m\u001b[0m\u001b[0m\n\u001b[0;32m--> 499\u001b[0;31m                     \u001b[0mtimeout\u001b[0m\u001b[0;34m=\u001b[0m\u001b[0mtimeout\u001b[0m\u001b[0;34m,\u001b[0m\u001b[0;34m\u001b[0m\u001b[0m\n\u001b[0m\u001b[1;32m    500\u001b[0m                 )\n\u001b[1;32m    501\u001b[0m \u001b[0;34m\u001b[0m\u001b[0m\n",
      "\u001b[0;32m/Library/Frameworks/Python.framework/Versions/3.7/lib/python3.7/site-packages/urllib3/connectionpool.py\u001b[0m in \u001b[0;36murlopen\u001b[0;34m(self, method, url, body, headers, retries, redirect, assert_same_host, timeout, pool_timeout, release_conn, chunked, body_pos, **response_kw)\u001b[0m\n\u001b[1;32m    708\u001b[0m                 \u001b[0mbody\u001b[0m\u001b[0;34m=\u001b[0m\u001b[0mbody\u001b[0m\u001b[0;34m,\u001b[0m\u001b[0;34m\u001b[0m\u001b[0m\n\u001b[1;32m    709\u001b[0m                 \u001b[0mheaders\u001b[0m\u001b[0;34m=\u001b[0m\u001b[0mheaders\u001b[0m\u001b[0;34m,\u001b[0m\u001b[0;34m\u001b[0m\u001b[0m\n\u001b[0;32m--> 710\u001b[0;31m                 \u001b[0mchunked\u001b[0m\u001b[0;34m=\u001b[0m\u001b[0mchunked\u001b[0m\u001b[0;34m,\u001b[0m\u001b[0;34m\u001b[0m\u001b[0m\n\u001b[0m\u001b[1;32m    711\u001b[0m             )\n\u001b[1;32m    712\u001b[0m \u001b[0;34m\u001b[0m\u001b[0m\n",
      "\u001b[0;32m/Library/Frameworks/Python.framework/Versions/3.7/lib/python3.7/site-packages/urllib3/connectionpool.py\u001b[0m in \u001b[0;36m_make_request\u001b[0;34m(self, conn, method, url, timeout, chunked, **httplib_request_kw)\u001b[0m\n\u001b[1;32m    447\u001b[0m                     \u001b[0;31m# Python 3 (including for exceptions like SystemExit).\u001b[0m\u001b[0;34m\u001b[0m\u001b[0;34m\u001b[0m\u001b[0m\n\u001b[1;32m    448\u001b[0m                     \u001b[0;31m# Otherwise it looks like a bug in the code.\u001b[0m\u001b[0;34m\u001b[0m\u001b[0;34m\u001b[0m\u001b[0m\n\u001b[0;32m--> 449\u001b[0;31m                     \u001b[0msix\u001b[0m\u001b[0;34m.\u001b[0m\u001b[0mraise_from\u001b[0m\u001b[0;34m(\u001b[0m\u001b[0me\u001b[0m\u001b[0;34m,\u001b[0m \u001b[0;32mNone\u001b[0m\u001b[0;34m)\u001b[0m\u001b[0;34m\u001b[0m\u001b[0m\n\u001b[0m\u001b[1;32m    450\u001b[0m         \u001b[0;32mexcept\u001b[0m \u001b[0;34m(\u001b[0m\u001b[0mSocketTimeout\u001b[0m\u001b[0;34m,\u001b[0m \u001b[0mBaseSSLError\u001b[0m\u001b[0;34m,\u001b[0m \u001b[0mSocketError\u001b[0m\u001b[0;34m)\u001b[0m \u001b[0;32mas\u001b[0m \u001b[0me\u001b[0m\u001b[0;34m:\u001b[0m\u001b[0;34m\u001b[0m\u001b[0m\n\u001b[1;32m    451\u001b[0m             \u001b[0mself\u001b[0m\u001b[0;34m.\u001b[0m\u001b[0m_raise_timeout\u001b[0m\u001b[0;34m(\u001b[0m\u001b[0merr\u001b[0m\u001b[0;34m=\u001b[0m\u001b[0me\u001b[0m\u001b[0;34m,\u001b[0m \u001b[0murl\u001b[0m\u001b[0;34m=\u001b[0m\u001b[0murl\u001b[0m\u001b[0;34m,\u001b[0m \u001b[0mtimeout_value\u001b[0m\u001b[0;34m=\u001b[0m\u001b[0mread_timeout\u001b[0m\u001b[0;34m)\u001b[0m\u001b[0;34m\u001b[0m\u001b[0m\n",
      "\u001b[0;32m/Library/Frameworks/Python.framework/Versions/3.7/lib/python3.7/site-packages/urllib3/packages/six.py\u001b[0m in \u001b[0;36mraise_from\u001b[0;34m(value, from_value)\u001b[0m\n",
      "\u001b[0;32m/Library/Frameworks/Python.framework/Versions/3.7/lib/python3.7/site-packages/urllib3/connectionpool.py\u001b[0m in \u001b[0;36m_make_request\u001b[0;34m(self, conn, method, url, timeout, chunked, **httplib_request_kw)\u001b[0m\n\u001b[1;32m    442\u001b[0m                 \u001b[0;31m# Python 3\u001b[0m\u001b[0;34m\u001b[0m\u001b[0;34m\u001b[0m\u001b[0m\n\u001b[1;32m    443\u001b[0m                 \u001b[0;32mtry\u001b[0m\u001b[0;34m:\u001b[0m\u001b[0;34m\u001b[0m\u001b[0m\n\u001b[0;32m--> 444\u001b[0;31m                     \u001b[0mhttplib_response\u001b[0m \u001b[0;34m=\u001b[0m \u001b[0mconn\u001b[0m\u001b[0;34m.\u001b[0m\u001b[0mgetresponse\u001b[0m\u001b[0;34m(\u001b[0m\u001b[0;34m)\u001b[0m\u001b[0;34m\u001b[0m\u001b[0m\n\u001b[0m\u001b[1;32m    445\u001b[0m                 \u001b[0;32mexcept\u001b[0m \u001b[0mBaseException\u001b[0m \u001b[0;32mas\u001b[0m \u001b[0me\u001b[0m\u001b[0;34m:\u001b[0m\u001b[0;34m\u001b[0m\u001b[0m\n\u001b[1;32m    446\u001b[0m                     \u001b[0;31m# Remove the TypeError from the exception chain in\u001b[0m\u001b[0;34m\u001b[0m\u001b[0;34m\u001b[0m\u001b[0m\n",
      "\u001b[0;32m/Library/Frameworks/Python.framework/Versions/3.7/lib/python3.7/http/client.py\u001b[0m in \u001b[0;36mgetresponse\u001b[0;34m(self)\u001b[0m\n\u001b[1;32m   1319\u001b[0m         \u001b[0;32mtry\u001b[0m\u001b[0;34m:\u001b[0m\u001b[0;34m\u001b[0m\u001b[0m\n\u001b[1;32m   1320\u001b[0m             \u001b[0;32mtry\u001b[0m\u001b[0;34m:\u001b[0m\u001b[0;34m\u001b[0m\u001b[0m\n\u001b[0;32m-> 1321\u001b[0;31m                 \u001b[0mresponse\u001b[0m\u001b[0;34m.\u001b[0m\u001b[0mbegin\u001b[0m\u001b[0;34m(\u001b[0m\u001b[0;34m)\u001b[0m\u001b[0;34m\u001b[0m\u001b[0m\n\u001b[0m\u001b[1;32m   1322\u001b[0m             \u001b[0;32mexcept\u001b[0m \u001b[0mConnectionError\u001b[0m\u001b[0;34m:\u001b[0m\u001b[0;34m\u001b[0m\u001b[0m\n\u001b[1;32m   1323\u001b[0m                 \u001b[0mself\u001b[0m\u001b[0;34m.\u001b[0m\u001b[0mclose\u001b[0m\u001b[0;34m(\u001b[0m\u001b[0;34m)\u001b[0m\u001b[0;34m\u001b[0m\u001b[0m\n",
      "\u001b[0;32m/Library/Frameworks/Python.framework/Versions/3.7/lib/python3.7/http/client.py\u001b[0m in \u001b[0;36mbegin\u001b[0;34m(self)\u001b[0m\n\u001b[1;32m    294\u001b[0m         \u001b[0;31m# read until we get a non-100 response\u001b[0m\u001b[0;34m\u001b[0m\u001b[0;34m\u001b[0m\u001b[0m\n\u001b[1;32m    295\u001b[0m         \u001b[0;32mwhile\u001b[0m \u001b[0;32mTrue\u001b[0m\u001b[0;34m:\u001b[0m\u001b[0;34m\u001b[0m\u001b[0m\n\u001b[0;32m--> 296\u001b[0;31m             \u001b[0mversion\u001b[0m\u001b[0;34m,\u001b[0m \u001b[0mstatus\u001b[0m\u001b[0;34m,\u001b[0m \u001b[0mreason\u001b[0m \u001b[0;34m=\u001b[0m \u001b[0mself\u001b[0m\u001b[0;34m.\u001b[0m\u001b[0m_read_status\u001b[0m\u001b[0;34m(\u001b[0m\u001b[0;34m)\u001b[0m\u001b[0;34m\u001b[0m\u001b[0m\n\u001b[0m\u001b[1;32m    297\u001b[0m             \u001b[0;32mif\u001b[0m \u001b[0mstatus\u001b[0m \u001b[0;34m!=\u001b[0m \u001b[0mCONTINUE\u001b[0m\u001b[0;34m:\u001b[0m\u001b[0;34m\u001b[0m\u001b[0m\n\u001b[1;32m    298\u001b[0m                 \u001b[0;32mbreak\u001b[0m\u001b[0;34m\u001b[0m\u001b[0m\n",
      "\u001b[0;32m/Library/Frameworks/Python.framework/Versions/3.7/lib/python3.7/http/client.py\u001b[0m in \u001b[0;36m_read_status\u001b[0;34m(self)\u001b[0m\n\u001b[1;32m    255\u001b[0m \u001b[0;34m\u001b[0m\u001b[0m\n\u001b[1;32m    256\u001b[0m     \u001b[0;32mdef\u001b[0m \u001b[0m_read_status\u001b[0m\u001b[0;34m(\u001b[0m\u001b[0mself\u001b[0m\u001b[0;34m)\u001b[0m\u001b[0;34m:\u001b[0m\u001b[0;34m\u001b[0m\u001b[0m\n\u001b[0;32m--> 257\u001b[0;31m         \u001b[0mline\u001b[0m \u001b[0;34m=\u001b[0m \u001b[0mstr\u001b[0m\u001b[0;34m(\u001b[0m\u001b[0mself\u001b[0m\u001b[0;34m.\u001b[0m\u001b[0mfp\u001b[0m\u001b[0;34m.\u001b[0m\u001b[0mreadline\u001b[0m\u001b[0;34m(\u001b[0m\u001b[0m_MAXLINE\u001b[0m \u001b[0;34m+\u001b[0m \u001b[0;36m1\u001b[0m\u001b[0;34m)\u001b[0m\u001b[0;34m,\u001b[0m \u001b[0;34m\"iso-8859-1\"\u001b[0m\u001b[0;34m)\u001b[0m\u001b[0;34m\u001b[0m\u001b[0m\n\u001b[0m\u001b[1;32m    258\u001b[0m         \u001b[0;32mif\u001b[0m \u001b[0mlen\u001b[0m\u001b[0;34m(\u001b[0m\u001b[0mline\u001b[0m\u001b[0;34m)\u001b[0m \u001b[0;34m>\u001b[0m \u001b[0m_MAXLINE\u001b[0m\u001b[0;34m:\u001b[0m\u001b[0;34m\u001b[0m\u001b[0m\n\u001b[1;32m    259\u001b[0m             \u001b[0;32mraise\u001b[0m \u001b[0mLineTooLong\u001b[0m\u001b[0;34m(\u001b[0m\u001b[0;34m\"status line\"\u001b[0m\u001b[0;34m)\u001b[0m\u001b[0;34m\u001b[0m\u001b[0m\n",
      "\u001b[0;32m/Library/Frameworks/Python.framework/Versions/3.7/lib/python3.7/socket.py\u001b[0m in \u001b[0;36mreadinto\u001b[0;34m(self, b)\u001b[0m\n\u001b[1;32m    587\u001b[0m         \u001b[0;32mwhile\u001b[0m \u001b[0;32mTrue\u001b[0m\u001b[0;34m:\u001b[0m\u001b[0;34m\u001b[0m\u001b[0m\n\u001b[1;32m    588\u001b[0m             \u001b[0;32mtry\u001b[0m\u001b[0;34m:\u001b[0m\u001b[0;34m\u001b[0m\u001b[0m\n\u001b[0;32m--> 589\u001b[0;31m                 \u001b[0;32mreturn\u001b[0m \u001b[0mself\u001b[0m\u001b[0;34m.\u001b[0m\u001b[0m_sock\u001b[0m\u001b[0;34m.\u001b[0m\u001b[0mrecv_into\u001b[0m\u001b[0;34m(\u001b[0m\u001b[0mb\u001b[0m\u001b[0;34m)\u001b[0m\u001b[0;34m\u001b[0m\u001b[0m\n\u001b[0m\u001b[1;32m    590\u001b[0m             \u001b[0;32mexcept\u001b[0m \u001b[0mtimeout\u001b[0m\u001b[0;34m:\u001b[0m\u001b[0;34m\u001b[0m\u001b[0m\n\u001b[1;32m    591\u001b[0m                 \u001b[0mself\u001b[0m\u001b[0;34m.\u001b[0m\u001b[0m_timeout_occurred\u001b[0m \u001b[0;34m=\u001b[0m \u001b[0;32mTrue\u001b[0m\u001b[0;34m\u001b[0m\u001b[0m\n",
      "\u001b[0;32m/Library/Frameworks/Python.framework/Versions/3.7/lib/python3.7/ssl.py\u001b[0m in \u001b[0;36mrecv_into\u001b[0;34m(self, buffer, nbytes, flags)\u001b[0m\n\u001b[1;32m   1047\u001b[0m                   \u001b[0;34m\"non-zero flags not allowed in calls to recv_into() on %s\"\u001b[0m \u001b[0;34m%\u001b[0m\u001b[0;34m\u001b[0m\u001b[0m\n\u001b[1;32m   1048\u001b[0m                   self.__class__)\n\u001b[0;32m-> 1049\u001b[0;31m             \u001b[0;32mreturn\u001b[0m \u001b[0mself\u001b[0m\u001b[0;34m.\u001b[0m\u001b[0mread\u001b[0m\u001b[0;34m(\u001b[0m\u001b[0mnbytes\u001b[0m\u001b[0;34m,\u001b[0m \u001b[0mbuffer\u001b[0m\u001b[0;34m)\u001b[0m\u001b[0;34m\u001b[0m\u001b[0m\n\u001b[0m\u001b[1;32m   1050\u001b[0m         \u001b[0;32melse\u001b[0m\u001b[0;34m:\u001b[0m\u001b[0;34m\u001b[0m\u001b[0m\n\u001b[1;32m   1051\u001b[0m             \u001b[0;32mreturn\u001b[0m \u001b[0msuper\u001b[0m\u001b[0;34m(\u001b[0m\u001b[0;34m)\u001b[0m\u001b[0;34m.\u001b[0m\u001b[0mrecv_into\u001b[0m\u001b[0;34m(\u001b[0m\u001b[0mbuffer\u001b[0m\u001b[0;34m,\u001b[0m \u001b[0mnbytes\u001b[0m\u001b[0;34m,\u001b[0m \u001b[0mflags\u001b[0m\u001b[0;34m)\u001b[0m\u001b[0;34m\u001b[0m\u001b[0m\n",
      "\u001b[0;32m/Library/Frameworks/Python.framework/Versions/3.7/lib/python3.7/ssl.py\u001b[0m in \u001b[0;36mread\u001b[0;34m(self, len, buffer)\u001b[0m\n\u001b[1;32m    906\u001b[0m         \u001b[0;32mtry\u001b[0m\u001b[0;34m:\u001b[0m\u001b[0;34m\u001b[0m\u001b[0m\n\u001b[1;32m    907\u001b[0m             \u001b[0;32mif\u001b[0m \u001b[0mbuffer\u001b[0m \u001b[0;32mis\u001b[0m \u001b[0;32mnot\u001b[0m \u001b[0;32mNone\u001b[0m\u001b[0;34m:\u001b[0m\u001b[0;34m\u001b[0m\u001b[0m\n\u001b[0;32m--> 908\u001b[0;31m                 \u001b[0;32mreturn\u001b[0m \u001b[0mself\u001b[0m\u001b[0;34m.\u001b[0m\u001b[0m_sslobj\u001b[0m\u001b[0;34m.\u001b[0m\u001b[0mread\u001b[0m\u001b[0;34m(\u001b[0m\u001b[0mlen\u001b[0m\u001b[0;34m,\u001b[0m \u001b[0mbuffer\u001b[0m\u001b[0;34m)\u001b[0m\u001b[0;34m\u001b[0m\u001b[0m\n\u001b[0m\u001b[1;32m    909\u001b[0m             \u001b[0;32melse\u001b[0m\u001b[0;34m:\u001b[0m\u001b[0;34m\u001b[0m\u001b[0m\n\u001b[1;32m    910\u001b[0m                 \u001b[0;32mreturn\u001b[0m \u001b[0mself\u001b[0m\u001b[0;34m.\u001b[0m\u001b[0m_sslobj\u001b[0m\u001b[0;34m.\u001b[0m\u001b[0mread\u001b[0m\u001b[0;34m(\u001b[0m\u001b[0mlen\u001b[0m\u001b[0;34m)\u001b[0m\u001b[0;34m\u001b[0m\u001b[0m\n",
      "\u001b[0;31mKeyboardInterrupt\u001b[0m: "
     ]
    }
   ],
   "source": [
    "symbols = get_bitfinex_symbols()\n",
    "for symbol in symbols:\n",
    "\tprice = get_recent_price(symbol)\n",
    "\tprint(f'{symbol}: {price}')"
   ]
  }
 ],
 "metadata": {
  "kernelspec": {
   "display_name": "Python 3",
   "language": "python",
   "name": "python3"
  },
  "language_info": {
   "codemirror_mode": {
    "name": "ipython",
    "version": 3
   },
   "file_extension": ".py",
   "mimetype": "text/x-python",
   "name": "python",
   "nbconvert_exporter": "python",
   "pygments_lexer": "ipython3",
   "version": "3.7.0"
  }
 },
 "nbformat": 4,
 "nbformat_minor": 2
}
