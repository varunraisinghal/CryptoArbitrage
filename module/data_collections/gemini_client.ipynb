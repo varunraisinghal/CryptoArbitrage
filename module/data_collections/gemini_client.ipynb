{
 "cells": [
  {
   "cell_type": "code",
   "execution_count": 2,
   "metadata": {},
   "outputs": [],
   "source": [
    "import requests\n",
    "\n",
    "def get_gemini_symbols():\n",
    "    url = 'https://api.gemini.com/v1/symbols'\n",
    "    response = requests.get(url)\n",
    "    return response.json() if response.status_code == 200 else []\n",
    "\n",
    "def get_recent_price(symbol):\n",
    "    url = f'https://api.gemini.com/v1/pubticker/{symbol}'\n",
    "    response = requests.get(url)\n",
    "    return response.json()['last'] if response.status_code == 200 else 'N/A'"
   ]
  },
  {
   "cell_type": "code",
   "execution_count": 3,
   "metadata": {},
   "outputs": [
    {
     "name": "stdout",
     "output_type": "stream",
     "text": [
      "AAVEUSD: 84.6176\n",
      "ALIUSD: 0.020366\n",
      "AMPUSD: 0.00357\n",
      "ANKRUSD: 0.02427\n",
      "APEUSD: 1.399\n",
      "API3USD: 3.034\n",
      "ATOMUSD: 9.614\n",
      "AVAXUSD: 35.386\n",
      "AXSUSD: 7.18\n",
      "BATBTC: 0.00000493\n",
      "BATETH: 0.0000869\n",
      "BATUSD: 0.218\n",
      "BCHBTC: 0.00542\n",
      "BCHETH: 0.101\n"
     ]
    }
   ],
   "source": [
    "symbols = get_gemini_symbols()\n",
    "for symbol in symbols:\n",
    "\tprice = get_recent_price(symbol)\n",
    "\tprint(f'{symbol.upper()}: {price}')"
   ]
  }
 ],
 "metadata": {
  "kernelspec": {
   "display_name": "Python 3",
   "language": "python",
   "name": "python3"
  },
  "language_info": {
   "codemirror_mode": {
    "name": "ipython",
    "version": 3
   },
   "file_extension": ".py",
   "mimetype": "text/x-python",
   "name": "python",
   "nbconvert_exporter": "python",
   "pygments_lexer": "ipython3",
   "version": "3.7.0"
  }
 },
 "nbformat": 4,
 "nbformat_minor": 2
}
