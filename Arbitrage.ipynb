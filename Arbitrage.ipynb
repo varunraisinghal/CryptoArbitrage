{
  "nbformat": 4,
  "nbformat_minor": 0,
  "metadata": {
    "colab": {
      "provenance": [],
      "include_colab_link": true
    },
    "kernelspec": {
      "name": "python3",
      "display_name": "Python 3"
    },
    "language_info": {
      "name": "python"
    }
  },
  "cells": [
    {
      "cell_type": "markdown",
      "metadata": {
        "id": "view-in-github",
        "colab_type": "text"
      },
      "source": [
        "<a href=\"https://colab.research.google.com/github/varunraisinghal/CryptoArbitrage/blob/main/Arbitrage.ipynb\" target=\"_parent\"><img src=\"https://colab.research.google.com/assets/colab-badge.svg\" alt=\"Open In Colab\"/></a>"
      ]
    },
    {
      "cell_type": "code",
      "execution_count": 1,
      "metadata": {
        "id": "FNnwJO3rWdJd",
        "colab": {
          "base_uri": "https://localhost:8080/"
        },
        "outputId": "b450ca29-54f6-4b7b-f4c2-68bb5ac6c909"
      },
      "outputs": [
        {
          "output_type": "stream",
          "name": "stdout",
          "text": [
            "Requirement already satisfied: requests in /usr/local/lib/python3.10/dist-packages (2.31.0)\n",
            "Requirement already satisfied: charset-normalizer<4,>=2 in /usr/local/lib/python3.10/dist-packages (from requests) (3.3.2)\n",
            "Requirement already satisfied: idna<4,>=2.5 in /usr/local/lib/python3.10/dist-packages (from requests) (3.6)\n",
            "Requirement already satisfied: urllib3<3,>=1.21.1 in /usr/local/lib/python3.10/dist-packages (from requests) (2.0.7)\n",
            "Requirement already satisfied: certifi>=2017.4.17 in /usr/local/lib/python3.10/dist-packages (from requests) (2024.2.2)\n"
          ]
        }
      ],
      "source": [
        "pip install requests"
      ]
    },
    {
      "cell_type": "code",
      "source": [
        "import requests\n",
        "\n",
        "def get_eth_exchanges(api_key):\n",
        "    url = \"https://pro-api.coinmarketcap.com/v1/cryptocurrency/market-pairs/latest\"\n",
        "    parameters = {\n",
        "        'symbol': 'ETH',\n",
        "        'limit': 100  # Adjust the limit as needed\n",
        "    }\n",
        "    headers = {\n",
        "        'Accepts': 'application/json',\n",
        "        'X-CMC_PRO_API_KEY': api_key,\n",
        "    }\n",
        "\n",
        "    response = requests.get(url, headers=headers, params=parameters)\n",
        "    data = response.json()\n",
        "\n",
        "    if 'data' in data and 'market_pairs' in data['data']:\n",
        "        eth_exchanges = [pair['exchange']['name'] for pair in data['data']['market_pairs']]\n",
        "        return eth_exchanges\n",
        "    else:\n",
        "        return \"Error: Could not retrieve data\"\n",
        "\n",
        "# Use your API key here\n",
        "api_key = '9cbd75e7-e4c2-4482-8177-485228ca5d99'\n",
        "eth_exchanges = get_eth_exchanges(api_key)\n",
        "print(eth_exchanges)\n"
      ],
      "metadata": {
        "colab": {
          "base_uri": "https://localhost:8080/"
        },
        "id": "uV3iHaaiYhaQ",
        "outputId": "3ba1bc7c-38cd-47d4-e833-5c77f059a2d4"
      },
      "execution_count": 2,
      "outputs": [
        {
          "output_type": "stream",
          "name": "stdout",
          "text": [
            "Error: Could not retrieve data\n"
          ]
        }
      ]
    },
    {
      "cell_type": "code",
      "source": [
        "#testing"
      ],
      "metadata": {
        "id": "3vfYOF0YZ3ue"
      },
      "execution_count": null,
      "outputs": []
    }
  ]
}