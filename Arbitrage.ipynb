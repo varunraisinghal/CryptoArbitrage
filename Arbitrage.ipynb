{
  "nbformat": 4,
  "nbformat_minor": 0,
  "metadata": {
    "colab": {
      "provenance": [],
      "include_colab_link": true
    },
    "kernelspec": {
      "name": "python3",
      "display_name": "Python 3"
    },
    "language_info": {
      "name": "python"
    }
  },
  "cells": [
    {
      "cell_type": "markdown",
      "metadata": {
        "id": "view-in-github",
        "colab_type": "text"
      },
      "source": [
        "<a href=\"https://colab.research.google.com/github/varunraisinghal/CryptoArbitrage/blob/main/Arbitrage.ipynb\" target=\"_parent\"><img src=\"https://colab.research.google.com/assets/colab-badge.svg\" alt=\"Open In Colab\"/></a>"
      ]
    },
    {
      "cell_type": "code",
      "execution_count": 3,
      "metadata": {
        "id": "FNnwJO3rWdJd",
        "colab": {
          "base_uri": "https://localhost:8080/"
        },
        "outputId": "a5a71737-62ee-4b55-cc94-86784e9c5e2f"
      },
      "outputs": [
        {
          "output_type": "stream",
          "name": "stdout",
          "text": [
            "Requirement already satisfied: requests in /usr/local/lib/python3.10/dist-packages (2.31.0)\n",
            "Requirement already satisfied: charset-normalizer<4,>=2 in /usr/local/lib/python3.10/dist-packages (from requests) (3.3.2)\n",
            "Requirement already satisfied: idna<4,>=2.5 in /usr/local/lib/python3.10/dist-packages (from requests) (3.6)\n",
            "Requirement already satisfied: urllib3<3,>=1.21.1 in /usr/local/lib/python3.10/dist-packages (from requests) (2.0.7)\n",
            "Requirement already satisfied: certifi>=2017.4.17 in /usr/local/lib/python3.10/dist-packages (from requests) (2024.2.2)\n"
          ]
        }
      ],
      "source": [
        "pip install requests"
      ]
    },
    {
      "cell_type": "code",
      "source": [
        "import requests\n",
        "import json\n",
        "\n",
        "def get_eth_exchanges(api_key):\n",
        "    url = \"https://pro-api.coinmarketcap.com/v1/cryptocurrency/market-pairs/latest\"\n",
        "    parameters = {\n",
        "        'symbol': 'ETH',\n",
        "        'limit': 10  # You can adjust this limit as needed\n",
        "    }\n",
        "    headers = {\n",
        "        'Accepts': 'application/json',\n",
        "        'X-CMC_PRO_API_KEY': api_key,\n",
        "    }\n",
        "\n",
        "    response = requests.get(url, headers=headers, params=parameters)\n",
        "    return response.json()  # Returns the full JSON response\n",
        "\n",
        "# Use your API key here\n",
        "api_key = '9cbd75e7-e4c2-4482-8177-485228ca5d99'\n",
        "response_data = get_eth_exchanges(api_key)\n",
        "\n",
        "# Print the response data (or a part of it if it's too large)\n",
        "print(json.dumps(response_data, indent=4))\n"
      ],
      "metadata": {
        "colab": {
          "base_uri": "https://localhost:8080/"
        },
        "id": "uV3iHaaiYhaQ",
        "outputId": "bc25131c-2591-4a33-9c92-86d958313d43"
      },
      "execution_count": 5,
      "outputs": [
        {
          "output_type": "stream",
          "name": "stdout",
          "text": [
            "{\n",
            "    \"status\": {\n",
            "        \"timestamp\": \"2024-02-07T02:31:32.273Z\",\n",
            "        \"error_code\": 1006,\n",
            "        \"error_message\": \"Your API Key subscription plan doesn't support this endpoint.\",\n",
            "        \"elapsed\": 0,\n",
            "        \"credit_count\": 0\n",
            "    }\n",
            "}\n"
          ]
        }
      ]
    }
  ]
}